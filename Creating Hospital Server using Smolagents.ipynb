{
 "cells": [
  {
   "cell_type": "markdown",
   "id": "85fef7fd-1583-413a-a320-f130979642c8",
   "metadata": {},
   "source": [
    "# Wrapping a Smolagents Agent into an ACP Server"
   ]
  },
  {
   "cell_type": "markdown",
   "id": "7622f2c3",
   "metadata": {},
   "source": [
    "We will create another ACP agent built with Smolagents. This second agent will be a hospital server and be able to search the web to handle health-based questions for patients. Then, we will wrap the agent definition in an ACP server similarly to how we did with the first RAG agent."
   ]
  },
  {
   "cell_type": "markdown",
   "id": "a65b5353-4b4e-4024-9cba-2a70d5d203d8",
   "metadata": {},
   "source": [
    "## 6.1. Wrap the Agent in ACP Server"
   ]
  },
  {
   "cell_type": "markdown",
   "id": "b49affb8",
   "metadata": {},
   "source": [
    "To define our agent, we will use [CodeAgent](https://smolagents.org/docs/agents-guided-tour/) from the Smolagents library. This type of agent writes and executes Python code at every step. For this agent, we will use four tools provided by Smolagents:\n",
    "\n",
    "- CodeAgent: crucks of our agent to write up our Python function\n",
    "- DuckDuckGoSearchTool: performs a web search using DuckDuckGo browser\n",
    "- LiteLLMModel: forms the basic LLM that we're going to use\n",
    "- VisitWebpageTool: can visit and extract content from web pages\n",
    "\n",
    "The agent is wrapped in an ACP server using `@server.agent()` decorator. The server will also run locally using a different port number: 8001. Run the following cell to save the agent as `smolagents_server.py` under `my_acp_project`."
   ]
  },
  {
   "cell_type": "code",
   "execution_count": 1,
   "id": "8d9a42ee-c39a-4d47-ace0-6ab1c4da5c58",
   "metadata": {},
   "outputs": [
    {
     "name": "stdout",
     "output_type": "stream",
     "text": [
      "Overwriting ../my_acp_project/smolagents_server.py\n"
     ]
    }
   ],
   "source": [
    "%%writefile ../my_acp_project/smolagents_server.py\n",
    "# import the dependensies\n",
    "from collections.abc import AsyncGenerator # it's gonna be our type for defining our agent function\n",
    "from acp_sdk.models import Message, MessagePart # it structures the output\n",
    "from acp_sdk.server import Context, RunYield, RunYieldResume, Server # it forms all of the ACP output together\n",
    "from smolagents import CodeAgent, DuckDuckGoSearchTool, LiteLLMModel, VisitWebpageTool # smolagents is just a type of server like insurance policy (CrewAI) \n",
    " \n",
    "# Call the server\n",
    "server = Server()\n",
    "\n",
    "# Define LLM Model\n",
    "model = LiteLLMModel(\n",
    "    model_id=\"openai/gpt-4\",  \n",
    "    max_tokens=2048\n",
    ")\n",
    "\n",
    "# Define the agent\n",
    "@server.agent()\n",
    "async def health_agent(input: list[Message], context: Context) -> AsyncGenerator[RunYield, RunYieldResume]:\n",
    "    \"This is a CodeAgent which supports the hospital to handle health based questions for patients. Current or prospective patients can use it to find answers about their health and hospital treatments.\"\n",
    "    agent = CodeAgent(tools=[DuckDuckGoSearchTool(), VisitWebpageTool()], model=model)\n",
    "    \n",
    "    # Grab the first prompt of the list and the first part from the prompt\n",
    "    prompt = input[0].parts[0].content\n",
    "    response = agent.run(prompt)\n",
    "\n",
    "    # setting up the output of our ACP with MessagePart\n",
    "    yield Message(parts=[MessagePart(content=str(response))])\n",
    "\n",
    "# run this server on port 8000 because we don't want to clash with port 8001 (insurance agent server)\n",
    "if __name__ == \"__main__\":\n",
    "    server.run(port=8000)"
   ]
  },
  {
   "cell_type": "markdown",
   "id": "b9527288-8508-4f79-b1f3-ecf301a93c72",
   "metadata": {},
   "source": [
    "## 6.2. Run the Hospital ACP Server"
   ]
  },
  {
   "cell_type": "markdown",
   "id": "61e6f7f0-c8ae-4084-b4e4-1f5314992b1a",
   "metadata": {},
   "source": [
    "Activate our configured ACP agent, we also need to run your agent from another terminal.\n",
    "\n",
    "- Open the second terminal by running the cell below;\n",
    "- Type `uv run smolagents_server.py` to run the server and activate your ACP agent."
   ]
  },
  {
   "cell_type": "code",
   "execution_count": 2,
   "id": "fe453dba-3385-4630-8240-67e422a207ab",
   "metadata": {},
   "outputs": [
    {
     "data": {
      "text/html": [
       "\n",
       "        <iframe\n",
       "            width=\"800\"\n",
       "            height=\"600\"\n",
       "            src=\"https://s172-29-58-150p8888.lab-aws-production.deeplearning.ai/terminals/2\"\n",
       "            frameborder=\"0\"\n",
       "            allowfullscreen\n",
       "            \n",
       "        ></iframe>\n",
       "        "
      ],
      "text/plain": [
       "<IPython.lib.display.IFrame at 0x7f59e02e9790>"
      ]
     },
     "execution_count": 2,
     "metadata": {},
     "output_type": "execute_result"
    }
   ],
   "source": [
    "# Run the server using terminal 2 because we already used terminal one for insurance agent\n",
    "from IPython.display import IFrame\n",
    "import os\n",
    "url = os.environ.get('DLAI_LOCAL_URL').format(port=8888)\n",
    "IFrame(f\"{url}terminals/2\", width=800, height=600)"
   ]
  },
  {
   "cell_type": "markdown",
   "id": "0d6a83fd",
   "metadata": {},
   "source": [
    "Now, the hospital server acivates and works on `http://127.0.0.1:833`inside of the `uv run smolagents_server.py` directory \n",
    "\n",
    "We can also ignore this warning. We can move on to another steps to make this ACP server works  \n",
    "`WARNING: Can not reach server, check if running on http://127.0.0.1:8333 : Request failed after 5 retries` "
   ]
  },
  {
   "cell_type": "markdown",
   "id": "32efb318",
   "metadata": {},
   "source": [
    "**Note: How to update the `my_acp_project` locally on your machine so you can run the second server?**\n",
    "- cd `my_acp_project`\n",
    "- `uv add smolagents duckduckgo-search markdownify requests`"
   ]
  },
  {
   "cell_type": "markdown",
   "id": "a54e772d",
   "metadata": {},
   "source": [
    "## 6.3. Resources"
   ]
  },
  {
   "cell_type": "markdown",
   "id": "59a5de6c",
   "metadata": {},
   "source": [
    "- [Smolagents doc](https://smolagents.org/docs/smolagent-docs/)\n",
    "- [Short course: Building Code Agents with Hugging Face Smolagents ](https://www.deeplearning.ai/short-courses/building-code-agents-with-hugging-face-smolagents/)\n",
    "- [Same code using a local open source model: `ollama_chat/qwen2.5:14b`](https://github.com/nicknochnack/ACPWalkthrough/blob/main/4.%20smolagents%20ACP.py)"
   ]
  }
 ],
 "metadata": {
  "kernelspec": {
   "display_name": "Python 3 (ipykernel)",
   "language": "python",
   "name": "python3"
  },
  "language_info": {
   "codemirror_mode": {
    "name": "ipython",
    "version": 3
   },
   "file_extension": ".py",
   "mimetype": "text/x-python",
   "name": "python",
   "nbconvert_exporter": "python",
   "pygments_lexer": "ipython3",
   "version": "3.11.13"
  }
 },
 "nbformat": 4,
 "nbformat_minor": 5
}
