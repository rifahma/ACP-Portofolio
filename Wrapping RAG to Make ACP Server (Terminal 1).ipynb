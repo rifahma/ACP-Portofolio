{
 "cells": [
  {
   "cell_type": "markdown",
   "id": "58502ae5-b320-4097-a5fb-1a7fabd62ed5",
   "metadata": {},
   "source": [
    "# Wrapping the RAG Agent into an ACP Server"
   ]
  },
  {
   "cell_type": "markdown",
   "id": "0f4076c6",
   "metadata": {},
   "source": [
    "We'll wrap the RAG CrewAI agent that we created in the last notebook in ACP server and then run the ACP server to activate the agent so it can be discoverable by an ACP client.\n",
    "\n",
    "For now, we'll only make terminal 1 that later we can make another terminal 2 to connect the insurance agent with hospital."
   ]
  },
  {
   "cell_type": "markdown",
   "id": "d365502f-ce01-4073-9114-1fcd3d12cbd2",
   "metadata": {},
   "source": [
    "## 4.1. Wrap the Agent in ACP  Server"
   ]
  },
  {
   "cell_type": "markdown",
   "id": "52a393e7",
   "metadata": {},
   "source": [
    "We'll now take the same code you worked on in Lesson 3 and wrap it in a python file called: `crew_agent_server`.\n",
    "\n",
    "To make the agent ACP compliant, we use the `@server.agent()` decorator to define our agent. The name is inferred from the function name, and the description is pulled from the docstring. The minimal structure needed for an ACP-compliant agent will be like this:\n",
    "\n",
    "```python\n",
    "@server.agent()\n",
    "async def policy_agent(input: list[Message]) -> AsyncGenerator[RunYield, RunYieldResume]:\n",
    "    \"This is an agent for questions around policy coverage, it uses a RAG pattern to find answers based on policy documentation. Use it to help answer questions on coverage and waiting periods.\"\n",
    "    # Here goes the function definition\n",
    "    # ....\n",
    "    task_output = ...\n",
    "    yield Message(parts=[MessagePart(content=str(task_output))])\n",
    "```\n",
    "This configuration establishes several critical aspects of the agent:\n",
    "- **Function Definition**: The core functionality that determines what the agent does;\n",
    "- **Input Parameter**: The input parameter accepts a list of Message objects; \n",
    "- **Return Type**: The AsyncGenerator[RunYield, RunYieldResume] return type enables both streaming responses and the await pattern:\n",
    "   - AsyncGenerator: An async generator object that can be iterated with async for and supports await operations\n",
    "   - RunYield: The type of values this generator yields (sends out)\n",
    "   - RunYieldResume: The type of values this generator receives when resumed (sent back in) (in the definition below, you will only use RunYield)\n",
    "- **Documentation**: The docstring provides a human-readable description of the agent"
   ]
  },
  {
   "cell_type": "markdown",
   "id": "ba7802cd",
   "metadata": {},
   "source": [
    "Run the following cell to copy the content of the cell to the file `crew_agent_server.py` which will be saved under the folder `my_acp_project`. "
   ]
  },
  {
   "cell_type": "code",
   "execution_count": 7,
   "id": "c6c31f89-a03c-4bd4-a710-aae07ce0f90e",
   "metadata": {},
   "outputs": [
    {
     "name": "stderr",
     "output_type": "stream",
     "text": [
      "UsageError: Line magic function `%%writefile` not found.\n"
     ]
    }
   ],
   "source": [
    "# Use this function to output into a file that we can run into a file using Python or UV\n",
    "%%writefile ../my_acp_project/crew_agent_server.py\n",
    "\n",
    "# convert this into an ACP server (like connecting agent to the hospital)\n",
    "from collections.abc import AsyncGenerator\n",
    "from acp_sdk.models import Message, MessagePart\n",
    "from acp_sdk.server import RunYield, RunYieldResume, Server\n",
    "\n",
    "# This is our last notebook on building the agent for the first time using RAG\n",
    "from crewai import Crew, Task, Agent, LLM\n",
    "from crewai_tools import RagTool\n",
    "\n",
    "# create new variable here for server and assign it to our ACP server\n",
    "import nest_asyncio\n",
    "nest_asyncio.apply()\n",
    "\n",
    "# making the ACP server\n",
    "server = Server()\n",
    "llm = LLM(model=\"openai/gpt-4\", max_tokens=1024)\n",
    "\n",
    "config = {\n",
    "    \"llm\": {\n",
    "        \"provider\": \"openai\",\n",
    "        \"config\": {\n",
    "            \"model\": \"gpt-4\",\n",
    "        }\n",
    "    },\n",
    "    \"embedding_model\": {\n",
    "        \"provider\": \"openai\",\n",
    "        \"config\": {\n",
    "            \"model\": \"text-embedding-ada-002\"\n",
    "        }\n",
    "    }\n",
    "}\n",
    "rag_tool = RagTool(config=config,  \n",
    "                   chunk_size=1200,       \n",
    "                   chunk_overlap=200,     \n",
    "                  )\n",
    "rag_tool.add(\"../data/gold-hospital-and-premium-extras.pdf\", data_type=\"pdf_file\")\n",
    "\n",
    "# Define the agent to communicate to ACP server\n",
    "@server.agent()\n",
    "# get kick off the message (after click \"Enter\")\n",
    "async def policy_agent(input: list[Message]) -> AsyncGenerator[RunYield, RunYieldResume]: # return our output from ACP server\n",
    "    \"This is an agent for questions around policy coverage, it uses a RAG pattern to find answers based on policy documentation. Use it to help answer questions on coverage and waiting periods.\"\n",
    "\n",
    "    insurance_agent = Agent(\n",
    "        role=\"Senior Insurance Coverage Assistant\", \n",
    "        goal=\"Determine whether something is covered or not\",\n",
    "        backstory=\"You are an expert insurance agent designed to assist with coverage queries\",\n",
    "        verbose=True,\n",
    "        allow_delegation=False,\n",
    "        llm=llm,\n",
    "        tools=[rag_tool], \n",
    "        max_retry_limit=5\n",
    "    )\n",
    "\n",
    "    # unpack the message and push it into CrewAI Task\n",
    "    task1 = Task(\n",
    "         description=input[0].parts[0].content, # it gives the server response to the user with dynamic prompt, not just specific prompt like \"what is waiting period\" or like mini-FAQ that has been fixed before\n",
    "         # content: when we retunr the variable from description, we're able to extract all of those components. Loop and create multiple tasks\n",
    "         expected_output = \"A comprehensive response as to the users question\",\n",
    "         agent=insurance_agent\n",
    "    )\n",
    "    crew = Crew(agents=[insurance_agent], tasks=[task1], verbose=True)\n",
    "    \n",
    "    task_output = await crew.kickoff_async()\n",
    "    # Then, return the task here\n",
    "    yield Message(parts=[MessagePart(content=str(task_output))]) # because we are build the generator, we're gonna return the different message part from our agent \n",
    "\n",
    "if __name__ == \"__main__\":\n",
    "    server.run(port=8001)"
   ]
  },
  {
   "cell_type": "markdown",
   "id": "7eeda960-1a87-48d2-b536-017aef898e12",
   "metadata": {},
   "source": [
    "## 4.2. Run the Insurer ACP Server"
   ]
  },
  {
   "cell_type": "markdown",
   "id": "f2a26f5b-361c-4ce3-b6ca-7b58d9eabebc",
   "metadata": {},
   "source": [
    "Now to activate your configured ACP agent, we need to run your agent server. The folder `my_acp_project` has been set up for you so you can run the agent server using `uv`:\n",
    "\n",
    "- Open the terminal by running the cell below\n",
    "- Type `uv run crew_agent_server.py` to run the server and activate your ACP agent.\n",
    "\n",
    "This notebook has been installed with uv. If we want to replicate the work locally on our machine, please see below."
   ]
  },
  {
   "cell_type": "code",
   "execution_count": 8,
   "id": "e2e0ab9f-e299-49e1-b5aa-076c6fd0b0d2",
   "metadata": {},
   "outputs": [
    {
     "data": {
      "text/html": [
       "\n",
       "        <iframe\n",
       "            width=\"800\"\n",
       "            height=\"600\"\n",
       "            src=\"https://s172-29-69-192p8888.lab-aws-production.deeplearning.ai/terminals/1\"\n",
       "            frameborder=\"0\"\n",
       "            allowfullscreen\n",
       "            \n",
       "        ></iframe>\n",
       "        "
      ],
      "text/plain": [
       "<IPython.lib.display.IFrame at 0x7fecbc929510>"
      ]
     },
     "execution_count": 8,
     "metadata": {},
     "output_type": "execute_result"
    }
   ],
   "source": [
    "# Building IFrame so we can start it up and give it a go.\n",
    "from IPython.display import IFrame\n",
    "import os\n",
    "url = os.environ.get('DLAI_LOCAL_URL').format(port=8888)\n",
    "IFrame(f\"{url}terminals/1\", width=800, height=600)\n",
    "# terminal 1 because eventually we're gonna run multiple ACP servers\n",
    "# Note: if we want to make the hospital server, we'll later use terminal 2"
   ]
  },
  {
   "cell_type": "markdown",
   "id": "f96b590d",
   "metadata": {},
   "source": [
    "We now have an agent running on port 8001 that can receive messages from others, or be called via HTTP, using the ACP protocol. \n",
    "\n",
    "**Note**: If you see this warning: \n",
    "`WARNING: Can not reach server, check if running on http://127.0.0.1:8333 : Request failed after 5 retries`\n",
    "Then ignore it. \n",
    "\n",
    "If the platform is installed, it runs by default on port 8333. The ACP servers are configured to automatically connect to the platform. Since the platform isn't installed in this environment, the ACP server will generate a warning."
   ]
  },
  {
   "cell_type": "markdown",
   "id": "ceabc4e5",
   "metadata": {},
   "source": [
    "**Note: How to set up `my_acp_project` locally on your machine using the `uv` tool?**\n",
    "\n",
    "- First install `uv` by checking this [link](https://docs.astral.sh/uv/getting-started/installation/).\n",
    "\n",
    "After that, you can create `my_acp_project` in any directory of your choice, then in the terminal you can type the following commands:\n",
    "- `cd my_acp_porject`\n",
    "- `uv init`: to initialize the project\n",
    "- `uv venv`: to create a virtual environment\n",
    "- `uv add crewai crewai-tools acp-sdk load_dotenv nest-asyncio`: to define the dependencies.\n",
    "\n",
    "Then create `crew_agent_server.py` inside the `my_acp_project`.\n",
    "\n",
    "You can then run the server using `uv run`.  Since this code uses an OpenAI model, you would also need to specify an openAI API key in a `.env` file like this: `OPENAI_API_KEY=sk-...`. If you would like to use a local open source model using `Ollama`, please check the resource section below."
   ]
  },
  {
   "cell_type": "markdown",
   "id": "b3f25184",
   "metadata": {},
   "source": [
    "## Resources"
   ]
  },
  {
   "cell_type": "markdown",
   "id": "2c94b271",
   "metadata": {},
   "source": [
    "- [How to wrap Agent](https://agentcommunicationprotocol.dev/how-to/wrap-existing-agent)\n",
    "- [Configuration of ACP Agent](https://agentcommunicationprotocol.dev/core-concepts/agent-lifecycle#configuration)\n",
    "- [Same code using a local open source model: `ollama_chat/qwen2.5:14b`](https://github.com/nicknochnack/ACPWalkthrough/blob/main/2.%20CrewAI%20via%20Server.py)"
   ]
  }
 ],
 "metadata": {
  "kernelspec": {
   "display_name": "Python 3 (ipykernel)",
   "language": "python",
   "name": "python3"
  },
  "language_info": {
   "codemirror_mode": {
    "name": "ipython",
    "version": 3
   },
   "file_extension": ".py",
   "mimetype": "text/x-python",
   "name": "python",
   "nbconvert_exporter": "python",
   "pygments_lexer": "ipython3",
   "version": "3.11.13"
  }
 },
 "nbformat": 4,
 "nbformat_minor": 5
}
