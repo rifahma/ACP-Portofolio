{
 "cells": [
  {
   "cell_type": "markdown",
   "id": "51314003-4f36-453f-88ff-c6621b784d59",
   "metadata": {},
   "source": [
    "# Hierarchically Chaining the Agent Calls using a Router Agent (Let Our AI Model Guides Itself)"
   ]
  },
  {
   "cell_type": "markdown",
   "id": "4de52b6c",
   "metadata": {},
   "source": [
    "We will create a hierarchical workflow using a router agent. Instead of having a fixed linear workflow like in the previous lesson, by using a third agent (router) in the client-side that will decide when to call each ACP agent and navigate diverse answers from different questions."
   ]
  },
  {
   "cell_type": "markdown",
   "id": "6b5c3f95-8f99-4d35-8369-d383176d6bc8",
   "metadata": {},
   "source": [
    "## 8.1. Start Up both ACP Servers"
   ]
  },
  {
   "cell_type": "markdown",
   "id": "39b7a6d8",
   "metadata": {},
   "source": [
    "First make sure the Insurer server is still running:\n",
    "- Open the terminal by running the cell below.\n",
    "- If the agent is still running from the previous lessons, then you don't need to do anything else.\n",
    "- If the agent has stopped running (the lab environment resets after 120 min), then run the server again by typing:\n",
    "  - `uv run crew_agent_server.py`\n",
    "\n",
    "\n",
    "**Note**: If the platform is installed, it runs by default on port 8333. The ACP servers are configured to automatically connect to the platform. Since the platform is not installed in this environment, the ACP server will generate a warning."
   ]
  },
  {
   "cell_type": "code",
   "execution_count": 1,
   "id": "e350c16f-672e-41f2-80d6-a3b854abc90f",
   "metadata": {},
   "outputs": [
    {
     "data": {
      "text/html": [
       "\n",
       "        <iframe\n",
       "            width=\"800\"\n",
       "            height=\"600\"\n",
       "            src=\"https://s172-29-112-219p8888.lab-aws-production.deeplearning.ai/terminals/1\"\n",
       "            frameborder=\"0\"\n",
       "            allowfullscreen\n",
       "            \n",
       "        ></iframe>\n",
       "        "
      ],
      "text/plain": [
       "<IPython.lib.display.IFrame at 0x7f2e84c0a710>"
      ]
     },
     "execution_count": 1,
     "metadata": {},
     "output_type": "execute_result"
    }
   ],
   "source": [
    "from IPython.display import IFrame\n",
    "import os\n",
    "url = os.environ.get('DLAI_LOCAL_URL').format(port=8888)\n",
    "IFrame(f\"{url}terminals/1\", width=800, height=600)"
   ]
  },
  {
   "cell_type": "markdown",
   "id": "a1c23330",
   "metadata": {},
   "source": [
    "Also make sure the Hospital server is still running:\n",
    "- Open the terminal by running the cell below.\n",
    "- If the agent is still running from the previous lessons, don't need to do anything else.\n",
    "- If the agent has stopped running (the lab environment resets after 120 min), run the server again by typing:\n",
    "  - `uv run smolagents_server.py`"
   ]
  },
  {
   "cell_type": "code",
   "execution_count": 4,
   "id": "639370d9-5241-4dab-b8cd-67298d9c8ea4",
   "metadata": {},
   "outputs": [
    {
     "data": {
      "text/html": [
       "\n",
       "        <iframe\n",
       "            width=\"800\"\n",
       "            height=\"600\"\n",
       "            src=\"https://s172-29-112-219p8888.lab-aws-production.deeplearning.ai/terminals/2\"\n",
       "            frameborder=\"0\"\n",
       "            allowfullscreen\n",
       "            \n",
       "        ></iframe>\n",
       "        "
      ],
      "text/plain": [
       "<IPython.lib.display.IFrame at 0x7f2e84c31390>"
      ]
     },
     "execution_count": 4,
     "metadata": {},
     "output_type": "execute_result"
    }
   ],
   "source": [
    "IFrame(f\"{url}terminals/2\", width=800, height=600)"
   ]
  },
  {
   "cell_type": "markdown",
   "id": "52b648fc-f4f0-45b7-8d02-ecd368aeccc9",
   "metadata": {},
   "source": [
    "## 8.2. Import ACPCallingAgent"
   ]
  },
  {
   "cell_type": "code",
   "execution_count": 1,
   "id": "0dfeac96-37e7-4e5e-9162-3335e5837cac",
   "metadata": {},
   "outputs": [],
   "source": [
    "# run our server\n",
    "import asyncio\n",
    "# nest the server\n",
    "import nest_asyncio\n",
    "# discover which agent is available for each question \n",
    "from acp_sdk.client import Client \n",
    "# access lite LLM Model that we always use for this ACP\n",
    "from smolagents import LiteLLMModel\n",
    "# the main structure for hierarchical flow. AgentCollection is a help use to format the ACP server that we're going to use them. ACPCallingAgent is our router agent (navigate the best ACP to do the action). \n",
    "from fastacp import AgentCollection, ACPCallingAgent \n",
    "# terminal formatting for output\n",
    "from colorama import Fore"
   ]
  },
  {
   "cell_type": "code",
   "execution_count": 2,
   "id": "d03d181e-d65e-47d3-83eb-1ba394d3801d",
   "metadata": {},
   "outputs": [
    {
     "name": "stdout",
     "output_type": "stream",
     "text": [
      "\n",
      "    This agent uses JSON-like ACP agent calls, similarly to how ToolCallingAgent uses tool calls,\n",
      "    but directed at remote ACP agents instead of local tools.\n",
      "    \n",
      "    Args:\n",
      "        acp_agents (`dict[str, Agent]`): ACP agents that this agent can call.\n",
      "        model (`Callable[[list[dict[str, str]]], ChatMessage]`): Model that will generate the agent's actions.\n",
      "        prompt_templates ([`Dict[str, str]`], *optional*): Prompt templates.\n",
      "        planning_interval (`int`, *optional*): Interval at which the agent will run a planning step.\n",
      "        **kwargs: Additional keyword arguments.\n",
      "    \n"
     ]
    }
   ],
   "source": [
    "print(ACPCallingAgent.__doc__)"
   ]
  },
  {
   "cell_type": "markdown",
   "id": "f4ae3cf3-6c40-4b13-a125-660f21d8f5a4",
   "metadata": {},
   "source": [
    "## 8.3. Run the Hierarchical Workflow "
   ]
  },
  {
   "cell_type": "code",
   "execution_count": 3,
   "id": "dcbe8308-1bc2-4fd6-88b1-5367ac895e22",
   "metadata": {},
   "outputs": [],
   "source": [
    "nest_asyncio.apply()"
   ]
  },
  {
   "cell_type": "markdown",
   "id": "cae8cd09",
   "metadata": {},
   "source": [
    "**Note**: The `fastacp.py` file does not only contain the definition for the ACPCallingAgent, but it also includes this method: `AgentCollection.from_acp` where the client objects (`insurer` and `hospital`) discover the agents hosted on their corresponding servers by calling the method `.agents()`."
   ]
  },
  {
   "cell_type": "markdown",
   "id": "a770984a-f7d7-4bd5-b278-e547bf978f35",
   "metadata": {},
   "source": [
    "The hierarchical workflow has pretty similar to the sequential call. The difference is rather just put the prompt directly into it, we let the ACP Calling Agent discover which are the best servers to answer users question."
   ]
  },
  {
   "cell_type": "code",
   "execution_count": 7,
   "id": "96eeae29-1b30-4850-bcc4-27beb65505bb",
   "metadata": {},
   "outputs": [],
   "source": [
    "# Build the model\n",
    "model = LiteLLMModel(\n",
    "    model_id=\"openai/gpt-4\"\n",
    ")\n",
    "\n",
    "# define the hospital workflow\n",
    "async def run_hospital_workflow() -> None:\n",
    "    async with Client(base_url=\"http://localhost:8001\") as insurer, Client(base_url=\"http://localhost:8000\") as hospital:\n",
    "        \n",
    "        # agents discovery\n",
    "        agent_collection = await AgentCollection.from_acp(insurer, hospital)  # pass through all of different ACP clients\n",
    "        acp_agents = {agent.name: {'agent':agent, 'client':client} for client, agent in agent_collection.agents}\n",
    "        print(acp_agents) \n",
    "        \n",
    "        # Define new agent (router agent), passing the agents as tools to ACPCallingAgent\n",
    "        acpagent = ACPCallingAgent(acp_agents=acp_agents, model=model)\n",
    "        \n",
    "        # running the agent with a user query\n",
    "        result = await acpagent.run(\"do i need rehabilitation after a shoulder reconstruction and what is the waiting period from my insurance?\")\n",
    "        print(Fore.YELLOW + f\"Final result: {result}\" + Fore.RESET)"
   ]
  },
  {
   "cell_type": "code",
   "execution_count": 8,
   "id": "ca04856a-6404-4e98-9420-bcf8c0e9296d",
   "metadata": {},
   "outputs": [
    {
     "name": "stdout",
     "output_type": "stream",
     "text": [
      "{'policy_agent': {'agent': Agent(name='policy_agent', description='This is an agent for questions around policy coverage, it uses a RAG pattern to find answers based on policy documentation. Use it to help answer questions on coverage and waiting periods.', metadata=Metadata(annotations=None, documentation=None, license=None, programming_language=None, natural_languages=None, framework=None, capabilities=None, domains=None, tags=None, created_at=None, updated_at=None, author=None, contributors=None, links=None, dependencies=None, recommended_models=None)), 'client': <acp_sdk.client.client.Client object at 0x7f4f3f2f8550>}, 'health_agent': {'agent': Agent(name='health_agent', description='This is a CodeAgent which supports the hospital to handle health based questions for patients. Current or prospective patients can use it to find answers about their health and hospital treatments.', metadata=Metadata(annotations=None, documentation=None, license=None, programming_language=None, natural_languages=None, framework=None, capabilities=None, domains=None, tags=None, created_at=None, updated_at=None, author=None, contributors=None, links=None, dependencies=None, recommended_models=None)), 'client': <acp_sdk.client.client.Client object at 0x7f4f275d4410>}}\n",
      "[INFO] Step 1/10\n",
      "[DEBUG] Output message of the LLM:\n",
      "[DEBUG] ModelResponse(id='chatcmpl-C5WCvHTnbZeDJ3vSwcviM1vfmOeDY', created=1755431481, model='gpt-4-0613', object='chat.completion', system_fingerprint=None, choices=[Choices(finish_reason='stop', index=0, message=Message(content=None, role='assistant', tool_calls=[ChatCompletionMessageToolCall(function=Function(arguments='{\\n  \"input\": \"do i need rehabilitation after a shoulder reconstruction?\"\\n}', name='health_agent'), id='call_XQM3klQJOCtmweyQCJBCSrx9', type='function')], function_call=None, provider_specific_fields={'refusal': None}, annotations=[]))], usage=Usage(completion_tokens=20, prompt_tokens=418, total_tokens=438, completion_tokens_details=CompletionTokensDetailsWrapper(accepted_prediction_tokens=0, audio_tokens=0, reasoning_tokens=0, rejected_prediction_tokens=0, text_tokens=None), prompt_tokens_details=PromptTokensDetailsWrapper(audio_tokens=0, cached_tokens=0, text_tokens=None, image_tokens=None)), service_tier='default')\n",
      "[INFO] Calling agent: 'health_agent' with arguments: {\n",
      "  \"input\": \"do i need rehabilitation after a shoulder reconstruction?\"\n",
      "}\n",
      "\u001b[33mTool being called with args: ('{\\n  \"input\": \"do i need rehabilitation after a shoulder reconstruction?\"\\n}',) and kwargs: {'sanitize_inputs_outputs': True}\u001b[39m\n",
      "\u001b[35m{\n",
      "  \"input\": \"do i need rehabilitation after a shoulder reconstruction?\"\n",
      "}\u001b[39m\n",
      "\u001b[31mrun_id=UUID('9a65bd29-832c-442a-a5dd-22fb3d94ca98') agent_name='health_agent' session_id=UUID('df8ce8d6-d3ba-4775-9079-8ad69105c680') status=<RunStatus.COMPLETED: 'completed'> await_request=None output=[Message(parts=[MessagePart(name=None, content_type='text/plain', content='You should consult with your healthcare provider or physical therapist for advice tailored to your specific situation. Generally, rehabilitation is recommended after shoulder surgery, but it is important to follow the advice of your medical professionals who have knowledge of your specific case.', content_encoding='plain', content_url=None)], created_at=datetime.datetime(2025, 8, 20, 6, 58, 2, 111777, tzinfo=TzInfo(UTC)), completed_at=datetime.datetime(2025, 8, 20, 6, 58, 2, 111781, tzinfo=TzInfo(UTC)))] error=None created_at=datetime.datetime(2025, 8, 20, 6, 58, 0, 597396, tzinfo=TzInfo(UTC)) finished_at=datetime.datetime(2025, 8, 20, 6, 58, 2, 113213, tzinfo=TzInfo(UTC))\u001b[39m\n",
      "[DEBUG] Saved to memory: health_agent_response=You should consult with your healthcare provider or physical therapist for advice tailored to your specific situation. Generally, rehabilitation is recommended after shoulder surgery, but it is important to follow the advice of your medical professionals who have knowledge of your specific case.\n",
      "[INFO] Observations: You should consult with your healthcare provider or physical therapist for advice tailored to your specific situation. Generally, rehabilitation is recommended after shoulder surgery, but it is important to follow the advice of your medical professionals who have knowledge of your specific case.\n",
      "[INFO] Step 2/10\n",
      "[DEBUG] Output message of the LLM:\n",
      "[DEBUG] ModelResponse(id='chatcmpl-C5YlEXmVhPyjSp3TyFUxFkcK9WhVO', created=1755441296, model='gpt-4-0613', object='chat.completion', system_fingerprint=None, choices=[Choices(finish_reason='stop', index=0, message=Message(content=None, role='assistant', tool_calls=[ChatCompletionMessageToolCall(function=Function(arguments='{\\n  \"input\": \"What is the waiting period for rehabilitation services after shoulder reconstruction from my insurance?\"\\n}', name='policy_agent'), id='call_ffyPrKM4BhYq05Z4WapzhWXR', type='function')], function_call=None, provider_specific_fields={'refusal': None}, annotations=[]))], usage=Usage(completion_tokens=26, prompt_tokens=528, total_tokens=554, completion_tokens_details=CompletionTokensDetailsWrapper(accepted_prediction_tokens=0, audio_tokens=0, reasoning_tokens=0, rejected_prediction_tokens=0, text_tokens=None), prompt_tokens_details=PromptTokensDetailsWrapper(audio_tokens=0, cached_tokens=0, text_tokens=None, image_tokens=None)), service_tier='default')\n",
      "[INFO] Calling agent: 'policy_agent' with arguments: {\n",
      "  \"input\": \"What is the waiting period for rehabilitation services after shoulder reconstruction from my insurance?\"\n",
      "}\n",
      "\u001b[33mTool being called with args: ('{\\n  \"input\": \"What is the waiting period for rehabilitation services after shoulder reconstruction from my insurance?\"\\n}',) and kwargs: {'sanitize_inputs_outputs': True}\u001b[39m\n",
      "\u001b[35m{\n",
      "  \"input\": \"What is the waiting period for rehabilitation services after shoulder reconstruction from my insurance?\"\n",
      "}\u001b[39m\n",
      "\u001b[31mrun_id=UUID('afb4f8e3-afd3-4810-acbc-9d12412b10b4') agent_name='policy_agent' session_id=UUID('c341bd28-5cbe-4dbe-8616-f76b5efa5707') status=<RunStatus.COMPLETED: 'completed'> await_request=None output=[Message(parts=[MessagePart(name=None, content_type='text/plain', content='The standard waiting period for rehabilitation services after shoulder reconstruction under your insurance coverage is 2 months. However, if the shoulder reconstruction surgery is related to a pre-existing condition, then the waiting period is extended to 12 months.', content_encoding='plain', content_url=None)], created_at=datetime.datetime(2025, 8, 20, 6, 58, 2, 270573, tzinfo=TzInfo(UTC)), completed_at=datetime.datetime(2025, 8, 20, 6, 58, 2, 270579, tzinfo=TzInfo(UTC)))] error=None created_at=datetime.datetime(2025, 8, 20, 6, 58, 2, 137027, tzinfo=TzInfo(UTC)) finished_at=datetime.datetime(2025, 8, 20, 6, 58, 2, 270964, tzinfo=TzInfo(UTC))\u001b[39m\n",
      "[DEBUG] Saved to memory: policy_agent_response=The standard waiting period for rehabilitation services after shoulder reconstruction under your insurance coverage is 2 months. However, if the shoulder reconstruction surgery is related to a pre-existing condition, then the waiting period is extended to 12 months.\n",
      "[INFO] Observations: The standard waiting period for rehabilitation services after shoulder reconstruction under your insurance coverage is 2 months. However, if the shoulder reconstruction surgery is related to a pre-existing condition, then the waiting period is extended to 12 months.\n",
      "[INFO] Step 3/10\n",
      "[DEBUG] Output message of the LLM:\n",
      "[DEBUG] ModelResponse(id='chatcmpl-C5YlMHEOtrtFE4PeprSh7QcxMTInh', created=1755441304, model='gpt-4-0613', object='chat.completion', system_fingerprint=None, choices=[Choices(finish_reason='stop', index=0, message=Message(content=None, role='assistant', tool_calls=[ChatCompletionMessageToolCall(function=Function(arguments='Based on the recommendation of healthcare professionals, rehabilitation is generally advised after shoulder reconstruction surgery. \\n\\nAs for your insurance coverage, the standard waiting period for rehabilitation services after shoulder reconstruction is 2 months. Please note that if the surgery is related to a pre-existing condition, the waiting period extends to 12 months. Please always verify these details directly with your insurance provider.', name='final_answer'), id='call_XBLrCP6Ar7GwHo3oehcHYHgn', type='function')], function_call=None, provider_specific_fields={'refusal': None}, annotations=[]))], usage=Usage(completion_tokens=77, prompt_tokens=690, total_tokens=767, completion_tokens_details=CompletionTokensDetailsWrapper(accepted_prediction_tokens=0, audio_tokens=0, reasoning_tokens=0, rejected_prediction_tokens=0, text_tokens=None), prompt_tokens_details=PromptTokensDetailsWrapper(audio_tokens=0, cached_tokens=0, text_tokens=None, image_tokens=None)), service_tier='default')\n",
      "[INFO] Calling agent: 'final_answer' with arguments: Based on the recommendation of healthcare professionals, rehabilitation is generally advised after shoulder reconstruction surgery. \n",
      "\n",
      "As for your insurance coverage, the standard waiting period for rehabilitation services after shoulder reconstruction is 2 months. Please note that if the surgery is related to a pre-existing condition, the waiting period extends to 12 months. Please always verify these details directly with your insurance provider.\n",
      "[INFO] Final answer: Based on the recommendation of healthcare professionals, rehabilitation is generally advised after shoulder reconstruction surgery. \n",
      "\n",
      "As for your insurance coverage, the standard waiting period for rehabilitation services after shoulder reconstruction is 2 months. Please note that if the surgery is related to a pre-existing condition, the waiting period extends to 12 months. Please always verify these details directly with your insurance provider.\n",
      "\u001b[33mFinal result: Based on the recommendation of healthcare professionals, rehabilitation is generally advised after shoulder reconstruction surgery. \n",
      "\n",
      "As for your insurance coverage, the standard waiting period for rehabilitation services after shoulder reconstruction is 2 months. Please note that if the surgery is related to a pre-existing condition, the waiting period extends to 12 months. Please always verify these details directly with your insurance provider.\u001b[39m\n"
     ]
    }
   ],
   "source": [
    "asyncio.run(run_hospital_workflow())"
   ]
  },
  {
   "cell_type": "markdown",
   "id": "c7230a14",
   "metadata": {},
   "source": [
    "**Optional Reading:** Here's how the hierarchical flow works using the provided file `fastacp.py`:\n",
    "\n",
    "1. The agents hosted on each server are first discovered by their corresponding client objects and then converted to tools for the router agent (ACPCallingAgent): \n",
    "  \n",
    "  <img src=\"hr_1.png\" width=\"650\">\n",
    "\n",
    "2. When the router agent receives a user query, it breaks downs the query into smaller steps where each step can be executed by the specialized agent. For a given step, the router agent uses the client of the specialized agent to send the request to it:\n",
    "  \n",
    "  <img src=\"hr_2.png\" width=\"650\">"
   ]
  },
  {
   "cell_type": "markdown",
   "id": "247bd1c5",
   "metadata": {},
   "source": [
    "## 8.4. Resources"
   ]
  },
  {
   "cell_type": "markdown",
   "id": "7a24724b",
   "metadata": {},
   "source": [
    "- [Compose Agents](https://agentcommunicationprotocol.dev/how-to/compose-agents)\n",
    "- [Chained Agents as a Python file](https://github.com/nicknochnack/ACPWalkthrough/blob/main/5.%20Chained%20Agents.py)"
   ]
  },
  {
   "cell_type": "markdown",
   "id": "b2b478c3",
   "metadata": {},
   "source": [
    "<p style=\"background-color:#fff6ff; padding:15px; border-width:3px; border-color:#efe6ef; border-style:solid; border-radius:6px\"> 💻 &nbsp; <b>To access the <code>my_acp_project</code> folder:</b> 1) click on the <em>\"File\"</em> option on the top menu of the notebook and then 2) click on <em>\"Open\"</em>. "
   ]
  },
  {
   "cell_type": "markdown",
   "id": "b223bf29",
   "metadata": {},
   "source": [
    "<div style=\"background-color:#fff6ff; padding:13px; border-width:3px; border-color:#efe6ef; border-style:solid; border-radius:6px\">\n",
    "<p> ⬇ &nbsp; <b>Download Notebooks:</b> 1) click on the <em>\"File\"</em> option on the top menu of the notebook and then 2) click on <em>\"Download as\"</em> and select <em>\"Notebook (.ipynb)\"</em>.</p>\n",
    "</div>"
   ]
  }
 ],
 "metadata": {
  "kernelspec": {
   "display_name": "Python 3 (ipykernel)",
   "language": "python",
   "name": "python3"
  },
  "language_info": {
   "codemirror_mode": {
    "name": "ipython",
    "version": 3
   },
   "file_extension": ".py",
   "mimetype": "text/x-python",
   "name": "python",
   "nbconvert_exporter": "python",
   "pygments_lexer": "ipython3",
   "version": "3.11.13"
  }
 },
 "nbformat": 4,
 "nbformat_minor": 5
}
