{
 "cells": [
  {
   "cell_type": "markdown",
   "id": "58502ae5-b320-4097-a5fb-1a7fabd62ed5",
   "metadata": {},
   "source": [
    "# Calling an ACP Agent using the Client"
   ]
  },
  {
   "cell_type": "markdown",
   "id": "62d274fe",
   "metadata": {},
   "source": [
    "Now we have our ACP agent activated, we can interact with it by sending requests from an ACP client. \n",
    "\n",
    "<img src=\"client-server.png\" width=\"450\">"
   ]
  },
  {
   "cell_type": "markdown",
   "id": "7eeda960-1a87-48d2-b536-017aef898e12",
   "metadata": {},
   "source": [
    "## 5.1. Run the Insurer ACP Server"
   ]
  },
  {
   "cell_type": "markdown",
   "id": "f2a26f5b-361c-4ce3-b6ca-7b58d9eabebc",
   "metadata": {},
   "source": [
    "First make sure the server is still running:\n",
    "- Open the terminal by running the cell below.\n",
    "- If the agent is still running from the previous lesson, then you don't need to do anything else.\n",
    "- If the agent has stopped running (the lab environment resets after 120 min), then you can run the server again by typing:\n",
    "  - `uv run crew_agent_server.py`\n",
    "\n",
    "If the platform is installed, it runs by default on port 8333. The ACP servers are configured to automatically connect to the platform. Since the platform is not installed in this environment, the ACP server will generate a warning."
   ]
  },
  {
   "cell_type": "code",
   "execution_count": 1,
   "id": "e2e0ab9f-e299-49e1-b5aa-076c6fd0b0d2",
   "metadata": {},
   "outputs": [
    {
     "data": {
      "text/html": [
       "\n",
       "        <iframe\n",
       "            width=\"800\"\n",
       "            height=\"600\"\n",
       "            src=\"https://s172-29-125-164p8888.lab-aws-production.deeplearning.ai/terminals/1\"\n",
       "            frameborder=\"0\"\n",
       "            allowfullscreen\n",
       "            \n",
       "        ></iframe>\n",
       "        "
      ],
      "text/plain": [
       "<IPython.lib.display.IFrame at 0x7f575063e010>"
      ]
     },
     "execution_count": 1,
     "metadata": {},
     "output_type": "execute_result"
    }
   ],
   "source": [
    "# double check if our server is still running\n",
    "# render to terminal one\n",
    "from IPython.display import IFrame\n",
    "import os\n",
    "url = os.environ.get('DLAI_LOCAL_URL').format(port=8888)\n",
    "IFrame(f\"{url}terminals/1\", width=800, height=600)"
   ]
  },
  {
   "cell_type": "markdown",
   "id": "a45fa876-e743-4bbb-943a-4cb3a0c52630",
   "metadata": {},
   "source": [
    "## 5.2. Run the ACP Client "
   ]
  },
  {
   "cell_type": "markdown",
   "id": "adfb4fb4",
   "metadata": {},
   "source": [
    "We will create an ACP client to interact with the ACP server. \n",
    "\n",
    "**Why `nest_asyncio` is needed?**\n",
    "\n",
    "We will run the ACP client from the environment of the Jupyter notebook. Since the ACP client is an asyncio process (can send asynchronous requests to the server), we first need to import `nest_asyncio`. This is because the Jupyter notebook already runs an asyncio event loop in the background to handle various operations. When we try to run your own `asyncio` code (`asyncio.run()`), Python throws an error because we're trying to start a new event loop while one is already running. `nest_asyncio.apply()` allows nested event loops, which lets you run async code directly in Jupyter cells."
   ]
  },
  {
   "cell_type": "code",
   "execution_count": 2,
   "id": "71a73abb-654e-4131-aaeb-9b915a3ac27a",
   "metadata": {},
   "outputs": [],
   "source": [
    "import nest_asyncio\n",
    "nest_asyncio.apply()"
   ]
  },
  {
   "cell_type": "markdown",
   "id": "b705d384",
   "metadata": {},
   "source": [
    "Currently, the agent is running locally at port 8001. To do this, simply pass the endpoint `http://localhost:8001` to the client so it can discover the agents hosted within the server. Using the `client`, we can execute the agent synchronously using the method `run_sync` (Synchronous execution waits until the agent completes processing and returns a single response). We then need to pass to `run_sync` the name of agent and the input message."
   ]
  },
  {
   "cell_type": "code",
   "execution_count": 3,
   "id": "0f5c00cf-ce67-4b26-b248-34045df1f726",
   "metadata": {},
   "outputs": [],
   "source": [
    "# This is a step of discovery to find the agent server available by running synchronously\n",
    "from acp_sdk.client import Client\n",
    "import asyncio\n",
    "from colorama import Fore # we can output stuff using color terminal formatting and just looks a little bit nicer   \n",
    "\n",
    "# asynchronus function starts here\n",
    "async def example() -> None:\n",
    "    async with Client(base_url=\"http://localhost:8001\") as client:\n",
    "        run = await client.run_sync(\n",
    "            agent=\"policy_agent\", input=\"What is the waiting period for rehabilitation?\"\n",
    "        ) # This input should then be passed through to the agent running on the ACP server\n",
    "        print(Fore.YELLOW + run.output[0].parts[0].content + Fore.RESET)"
   ]
  },
  {
   "cell_type": "code",
   "execution_count": 4,
   "id": "ac9c7b1b-23bc-4613-a699-106b42343f14",
   "metadata": {},
   "outputs": [
    {
     "name": "stdout",
     "output_type": "stream",
     "text": [
      "\u001b[33mThe waiting period for rehabilitation under this insurance policy is 2 months. However, it's important to note that anything that is a pre-existing condition will have a 12-month waiting period. This means that if you've just joined or upgraded your policy, and you need rehabilitation for a pre-existing condition, you will need to serve a 12-month waiting period before you can claim for this service.\u001b[39m\n"
     ]
    }
   ],
   "source": [
    "asyncio.run(example())"
   ]
  },
  {
   "cell_type": "markdown",
   "id": "86cea315",
   "metadata": {},
   "source": [
    "## 5.3. Resources"
   ]
  },
  {
   "cell_type": "markdown",
   "id": "9570c813",
   "metadata": {},
   "source": [
    "- [Discover and Run Agent](https://agentcommunicationprotocol.dev/how-to/discover-and-run-agent)\n",
    "- [Client as a Python File](https://github.com/nicknochnack/ACPWalkthrough/blob/main/3.%20ACP%20client%20to%20CrewAI%20Server.py)"
   ]
  }
 ],
 "metadata": {
  "kernelspec": {
   "display_name": "Python 3 (ipykernel)",
   "language": "python",
   "name": "python3"
  },
  "language_info": {
   "codemirror_mode": {
    "name": "ipython",
    "version": 3
   },
   "file_extension": ".py",
   "mimetype": "text/x-python",
   "name": "python",
   "nbconvert_exporter": "python",
   "pygments_lexer": "ipython3",
   "version": "3.11.13"
  }
 },
 "nbformat": 4,
 "nbformat_minor": 5
}
